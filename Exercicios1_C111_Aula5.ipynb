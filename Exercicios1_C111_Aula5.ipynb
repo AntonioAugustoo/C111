{
 "cells": [
  {
   "cell_type": "code",
   "execution_count": 6,
   "metadata": {},
   "outputs": [],
   "source": [
    "import pandas as pd\n",
    "import numpy as np\n",
    "\n",
    "# 1. Criar as Series\n",
    "seriesAno1 = pd.Series({'Java': 16.25, 'C': 16.04, 'Python': 9.85})\n",
    "seriesAno2 = pd.Series({'C': 16.21, 'Python': 12.12, 'Java': 11.68})"
   ]
  },
  {
   "cell_type": "code",
   "execution_count": 2,
   "metadata": {},
   "outputs": [
    {
     "name": "stdout",
     "output_type": "stream",
     "text": [
      "Total de mercado no Ano 1: 42.14%\n",
      "Total de mercado no Ano 2: 40.01%\n"
     ]
    }
   ],
   "source": [
    "# 2. Calcular a participação total no mercado por ano\n",
    "total_ano1 = seriesAno1.sum()\n",
    "total_ano2 = seriesAno2.sum()\n",
    "print(f\"Total de mercado no Ano 1: {total_ano1:.2f}%\")\n",
    "print(f\"Total de mercado no Ano 2: {total_ano2:.2f}%\")"
   ]
  },
  {
   "cell_type": "code",
   "execution_count": 7,
   "metadata": {},
   "outputs": [
    {
     "name": "stdout",
     "output_type": "stream",
     "text": [
      "\n",
      "Crescimento/Declínio:\n",
      "C         0.17\n",
      "Java     -4.57\n",
      "Python    2.27\n",
      "dtype: float64\n"
     ]
    }
   ],
   "source": [
    "# 3. Calcular crescimento/declínio de cada linguagem\n",
    "crescimento = seriesAno2 - seriesAno1\n",
    "print(\"\\nCrescimento/Declínio:\")\n",
    "print(crescimento)"
   ]
  },
  {
   "cell_type": "code",
   "execution_count": 4,
   "metadata": {},
   "outputs": [
    {
     "name": "stdout",
     "output_type": "stream",
     "text": [
      "\n",
      "Linguagens que tiveram crescimento:\n",
      "C         0.17\n",
      "Python    2.27\n",
      "dtype: float64\n"
     ]
    }
   ],
   "source": [
    "# 4. Filtrar apenas as linguagens que tiveram crescimento\n",
    "linguagens_crescimento = crescimento[crescimento > 0]\n",
    "print(\"\\nLinguagens que tiveram crescimento:\")\n",
    "print(linguagens_crescimento)"
   ]
  },
  {
   "cell_type": "code",
   "execution_count": 5,
   "metadata": {},
   "outputs": [
    {
     "name": "stdout",
     "output_type": "stream",
     "text": [
      "\n",
      "Linguagem mais popular no Ano 4:\n",
      "Python    16.66\n",
      "dtype: float64\n"
     ]
    }
   ],
   "source": [
    "# 5. Projeção para os próximos 2 anos\n",
    "projecao_ano3 = seriesAno2 + crescimento\n",
    "projecao_ano4 = projecao_ano3 + crescimento\n",
    "\n",
    "\n",
    "linguagem_mais_popular = projecao_ano4.nlargest(1)\n",
    "print(\"\\nLinguagem mais popular no Ano 4:\")\n",
    "print(linguagem_mais_popular)"
   ]
  },
  {
   "cell_type": "code",
   "execution_count": 10,
   "metadata": {},
   "outputs": [
    {
     "name": "stdout",
     "output_type": "stream",
     "text": [
      "DataFrame:\n",
      "     W   X   Y   Z\n",
      "A  10  37  16   1\n",
      "B  29  26  30  49\n",
      "C  30   9  10   1\n",
      "D  43  41  37  17\n",
      "E  37  48  12  25\n",
      "\n",
      "Média dos elementos da coluna X menores que 30: 17.5\n"
     ]
    }
   ],
   "source": [
    "\n",
    "np.random.seed(10)\n",
    "data = np.random.randint(1, 50, [5, 4])\n",
    "\n",
    "print(\"DataFrame:\\n\", df)\n",
    "df = pd.DataFrame(data, index=['A', 'B', 'C', 'D', 'E'], columns=['W', 'X', 'Y', 'Z'])\n",
    "data = np.random.randint(1, 50, [5, 4])\n",
    "\n",
    "# Questão 6: Média dos elementos da coluna X que são menores que 30\n",
    "media_x_menor_30 = df['X'][df['X'] < 30].mean()\n",
    "print(\"\\nMédia dos elementos da coluna X menores que 30:\", media_x_menor_30)\n",
    "\n",
    "\n"
   ]
  },
  {
   "cell_type": "code",
   "execution_count": 12,
   "metadata": {},
   "outputs": [
    {
     "name": "stdout",
     "output_type": "stream",
     "text": [
      "\n",
      "Média dos elementos da linha D: 34.5\n",
      "\n",
      "Soma dos elementos da linha E: 122\n"
     ]
    }
   ],
   "source": [
    "# Questão 7: Média dos elementos da linha D usando loc()\n",
    "media_linha_D = df.loc['D'].mean()\n",
    "print(\"\\nMédia dos elementos da linha D:\", media_linha_D)\n",
    "# Soma dos elementos da linha E usando iloc()\n",
    "soma_linha_E = df.iloc[4].sum()\n",
    "print(\"\\nSoma dos elementos da linha E:\", soma_linha_E)\n"
   ]
  },
  {
   "cell_type": "code",
   "execution_count": 13,
   "metadata": {},
   "outputs": [
    {
     "name": "stdout",
     "output_type": "stream",
     "text": [
      "\n",
      "Slicing da matriz com linhas A, C, E e colunas X, Y:\n",
      "     X   Y\n",
      "A  37  16\n",
      "C   9  10\n",
      "E  48  12\n",
      "\n",
      "Soma dos elementos de cada linha selecionada:\n",
      " A    53\n",
      "C    19\n",
      "E    60\n",
      "dtype: int64\n",
      "\n",
      "Soma dos elementos de cada coluna selecionada:\n",
      " X    94\n",
      "Y    38\n",
      "dtype: int64\n"
     ]
    }
   ],
   "source": [
    "# Questão 8: Slicing para mostrar apenas as linhas A, C, E e colunas X e Y\n",
    "df_sliced = df.loc[['A', 'C', 'E'], ['X', 'Y']]\n",
    "print(\"\\nSlicing da matriz com linhas A, C, E e colunas X, Y:\\n\", df_sliced)\n",
    "\n",
    "# Soma dos elementos de cada uma dessas linhas\n",
    "soma_linhas = df_sliced.sum(axis=1)\n",
    "print(\"\\nSoma dos elementos de cada linha selecionada:\\n\", soma_linhas)\n",
    "\n",
    "# Soma dos elementos de cada uma dessas colunas\n",
    "soma_colunas = df_sliced.sum(axis=0)\n",
    "print(\"\\nSoma dos elementos de cada coluna selecionada:\\n\", soma_colunas)"
   ]
  }
 ],
 "metadata": {
  "kernelspec": {
   "display_name": "Python 3",
   "language": "python",
   "name": "python3"
  },
  "language_info": {
   "codemirror_mode": {
    "name": "ipython",
    "version": 3
   },
   "file_extension": ".py",
   "mimetype": "text/x-python",
   "name": "python",
   "nbconvert_exporter": "python",
   "pygments_lexer": "ipython3",
   "version": "3.11.9"
  }
 },
 "nbformat": 4,
 "nbformat_minor": 2
}
