{
 "cells": [
  {
   "cell_type": "markdown",
   "metadata": {},
   "source": []
  },
  {
   "cell_type": "code",
   "execution_count": 5,
   "metadata": {},
   "outputs": [],
   "source": [
    "import numpy as np\n",
    "\n",
    "# Carregar o dataset (substitua 'arquivo.txt' pelo nome correto do arquivo)\n",
    "dataset = np.loadtxt('C:\\\\Users\\\\Defen\\\\Downloads\\\\space.csv', delimiter=';', dtype=str, encoding='utf-8')\n",
    "\n"
   ]
  },
  {
   "cell_type": "code",
   "execution_count": 33,
   "metadata": {},
   "outputs": [
    {
     "name": "stdout",
     "output_type": "stream",
     "text": [
      "porcentagem de missoes bem sucedidas : 89.69 % \n"
     ]
    }
   ],
   "source": [
    "# 1. Porcentagem de missões que deram certo\n",
    "\n",
    "status = dataset[ : , -1] #acessando a ultima coluna\n",
    "sucesso = ( np.char.find(status , 'Success') >= 0 )\n",
    "\n",
    "quant_sucesso = np.sum(sucesso)\n",
    "total_missoes = dataset.shape[0]\n",
    "porc_sucesso = (quant_sucesso / total_missoes) * 100\n",
    "\n",
    "print(f'porcentagem de missoes bem sucedidas :', round(porc_sucesso, 2), '% ' ) \n"
   ]
  },
  {
   "cell_type": "code",
   "execution_count": 24,
   "metadata": {},
   "outputs": [
    {
     "name": "stdout",
     "output_type": "stream",
     "text": [
      "Média de gastos das missões:  153.79\n"
     ]
    }
   ],
   "source": [
    "# 2. Média de gastos de missões com valores disponíveis (> 0)\n",
    "\n",
    "custos = [float(linha) for linha in dataset[1:, 6] if float(linha) > 0]\n",
    "media_gastos = sum(custos) / len(custos) \n",
    "print(f'Média de gastos das missões: ', round( media_gastos, 2))"
   ]
  },
  {
   "cell_type": "code",
   "execution_count": 26,
   "metadata": {},
   "outputs": [
    {
     "name": "stdout",
     "output_type": "stream",
     "text": [
      "Número de missões realizadas nos EUA: 1344\n"
     ]
    }
   ],
   "source": [
    "# 3. Número de missões realizadas nos EUA\n",
    "quantidade_eua = sum(('USA' in local for local in dataset[1:, 2]))\n",
    "\n",
    "print(f'Número de missões realizadas nos EUA: {quantidade_eua}')\n"
   ]
  },
  {
   "cell_type": "code",
   "execution_count": null,
   "metadata": {},
   "outputs": [
    {
     "name": "stdout",
     "output_type": "stream",
     "text": [
      "Missão mais cara da SpaceX: Falcon Heavy | STP-2\n"
     ]
    }
   ],
   "source": [
    "# 4. Missão mais cara da SpaceX\n",
    "spacex_missoes = [linha for linha in dataset[1:] if linha[1] == 'SpaceX' ] # Filtra todas as missões pertencentes à SpaceX\n",
    "\n",
    "mais_cara = max(spacex_missoes, key=lambda linha: float(linha[6]))\n",
    "print('Missão mais cara da SpaceX:', mais_cara[4])\n"
   ]
  },
  {
   "cell_type": "code",
   "execution_count": 32,
   "metadata": {},
   "outputs": [
    {
     "name": "stdout",
     "output_type": "stream",
     "text": [
      "Empresa: AEB -- Quantidade de missões: 3\n",
      "Empresa: AMBA -- Quantidade de missões: 8\n",
      "Empresa: ASI -- Quantidade de missões: 9\n",
      "Empresa: Arianespace -- Quantidade de missões: 279\n",
      "Empresa: Arm??e de l'Air -- Quantidade de missões: 4\n",
      "Empresa: Blue Origin -- Quantidade de missões: 12\n",
      "Empresa: Boeing -- Quantidade de missões: 136\n",
      "Empresa: CASC -- Quantidade de missões: 251\n",
      "Empresa: CASIC -- Quantidade de missões: 5\n",
      "Empresa: CECLES -- Quantidade de missões: 4\n",
      "Empresa: CNES -- Quantidade de missões: 8\n",
      "Empresa: Douglas -- Quantidade de missões: 1\n",
      "Empresa: EER -- Quantidade de missões: 1\n",
      "Empresa: ESA -- Quantidade de missões: 13\n",
      "Empresa: Eurockot -- Quantidade de missões: 13\n",
      "Empresa: ExPace -- Quantidade de missões: 10\n",
      "Empresa: Exos -- Quantidade de missões: 4\n",
      "Empresa: General Dynamics -- Quantidade de missões: 251\n",
      "Empresa: IAI -- Quantidade de missões: 11\n",
      "Empresa: ILS -- Quantidade de missões: 46\n",
      "Empresa: IRGC -- Quantidade de missões: 1\n",
      "Empresa: ISA -- Quantidade de missões: 13\n",
      "Empresa: ISAS -- Quantidade de missões: 30\n",
      "Empresa: ISRO -- Quantidade de missões: 76\n",
      "Empresa: JAXA -- Quantidade de missões: 7\n",
      "Empresa: KARI -- Quantidade de missões: 3\n",
      "Empresa: KCST -- Quantidade de missões: 5\n",
      "Empresa: Khrunichev -- Quantidade de missões: 1\n",
      "Empresa: Kosmotras -- Quantidade de missões: 22\n",
      "Empresa: Land Launch -- Quantidade de missões: 7\n",
      "Empresa: Landspace -- Quantidade de missões: 1\n",
      "Empresa: Lockheed -- Quantidade de missões: 79\n",
      "Empresa: MHI -- Quantidade de missões: 84\n",
      "Empresa: MITT -- Quantidade de missões: 7\n",
      "Empresa: Martin Marietta -- Quantidade de missões: 114\n",
      "Empresa: NASA -- Quantidade de missões: 203\n",
      "Empresa: Northrop -- Quantidade de missões: 83\n",
      "Empresa: OKB-586 -- Quantidade de missões: 2\n",
      "Empresa: OneSpace -- Quantidade de missões: 1\n",
      "Empresa: RAE -- Quantidade de missões: 2\n",
      "Empresa: RVSN USSR -- Quantidade de missões: 1777\n",
      "Empresa: Rocket Lab -- Quantidade de missões: 13\n",
      "Empresa: Roscosmos -- Quantidade de missões: 55\n",
      "Empresa: SRC -- Quantidade de missões: 3\n",
      "Empresa: Sandia -- Quantidade de missões: 1\n",
      "Empresa: Sea Launch -- Quantidade de missões: 36\n",
      "Empresa: SpaceX -- Quantidade de missões: 100\n",
      "Empresa: Starsem -- Quantidade de missões: 1\n",
      "Empresa: ULA -- Quantidade de missões: 140\n",
      "Empresa: US Air Force -- Quantidade de missões: 161\n",
      "Empresa: US Navy -- Quantidade de missões: 17\n",
      "Empresa: UT -- Quantidade de missões: 5\n",
      "Empresa: VKS RF -- Quantidade de missões: 201\n",
      "Empresa: Virgin Orbit -- Quantidade de missões: 1\n",
      "Empresa: Yuzhmash -- Quantidade de missões: 2\n",
      "Empresa: i-Space -- Quantidade de missões: 1\n"
     ]
    }
   ],
   "source": [
    "# 5. Empresas e suas quantidades de missões\n",
    "\n",
    "empresas, quantidades = np.unique(dataset[1:, 1], return_counts=True)\n",
    "for i in range(len(empresas)):\n",
    "    print('Empresa:', empresas[i], '-- Quantidade de missões:', quantidades[i])\n"
   ]
  }
 ],
 "metadata": {
  "kernelspec": {
   "display_name": "Python 3",
   "language": "python",
   "name": "python3"
  },
  "language_info": {
   "codemirror_mode": {
    "name": "ipython",
    "version": 3
   },
   "file_extension": ".py",
   "mimetype": "text/x-python",
   "name": "python",
   "nbconvert_exporter": "python",
   "pygments_lexer": "ipython3",
   "version": "3.11.9"
  }
 },
 "nbformat": 4,
 "nbformat_minor": 2
}
