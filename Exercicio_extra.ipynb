{
 "cells": [
  {
   "cell_type": "code",
   "execution_count": 1,
   "metadata": {},
   "outputs": [],
   "source": [
    "import numpy as np\n",
    "\n",
    "dataset = np.loadtxt('C:\\\\Users\\\\Defen\\\\Downloads\\\\paises.csv', delimiter=';', dtype=str, encoding='utf-8')"
   ]
  },
  {
   "cell_type": "code",
   "execution_count": null,
   "metadata": {},
   "outputs": [],
   "source": [
    "# Questão 1: Slicing para mostrar apenas Country, Region, Population e Area\n",
    "print(\"País, Região, População e Área\")\n",
    "print(dataset[:, [0, 1, 2, 3]])  "
   ]
  },
  {
   "cell_type": "code",
   "execution_count": null,
   "metadata": {},
   "outputs": [
    {
     "name": "stdout",
     "output_type": "stream",
     "text": [
      " Regiões únicas\n",
      "['ASIA (EX. NEAR EAST)         ' 'BALTICS                            '\n",
      " 'C.W. OF IND. STATES ' 'EASTERN EUROPE                     '\n",
      " 'LATIN AMER. & CARIB    ' 'NEAR EAST                          '\n",
      " 'NORTHERN AFRICA                    '\n",
      " 'NORTHERN AMERICA                   '\n",
      " 'OCEANIA                            ' 'Region'\n",
      " 'SUB-SAHARAN AFRICA                 '\n",
      " 'WESTERN EUROPE                     ']\n"
     ]
    }
   ],
   "source": [
    "# Questão 2: Contar e mostrar as diferentes regiões\n",
    "print(\"Regiões únicas\")\n",
    "regioes_unicas = np.unique(dataset[:, 1])\n",
    "print(regioes_unicas)\n"
   ]
  },
  {
   "cell_type": "code",
   "execution_count": 18,
   "metadata": {},
   "outputs": [
    {
     "name": "stdout",
     "output_type": "stream",
     "text": [
      "Média de alfabetização\n",
      "379.05\n"
     ]
    }
   ],
   "source": [
    "# Questão 3: Média de alfabetização (Literacy %)\n",
    "print(\"Média de alfabetização\")\n",
    "\n",
    "# Pegando a coluna de alfabetização e filtrando apenas valores numéricos\n",
    "alfabetizacao = dataset[:, 4]\n",
    "valores_validos = [float(x) for x in alfabetizacao if x.replace('.', '', 1).isdigit()]\n",
    "\n",
    "media_alfabetizacao = sum(valores_validos) / len(valores_validos)\n",
    "print(round(media_alfabetizacao, 2))\n"
   ]
  },
  {
   "cell_type": "code",
   "execution_count": 21,
   "metadata": {},
   "outputs": [
    {
     "name": "stdout",
     "output_type": "stream",
     "text": [
      "Número de países na América do Norte: 5\n"
     ]
    }
   ],
   "source": [
    "# Questão 4: Contar países da América do Norte\n",
    "\n",
    "regioes = np.char.strip(dataset[:, 1])  # Remove espaços antes/depois das strings\n",
    "norte_america = np.sum(regioes == \"NORTHERN AMERICA\")\n",
    "\n",
    "print(f\"Número de países na América do Norte: {norte_america}\")\n"
   ]
  },
  {
   "cell_type": "code",
   "execution_count": 24,
   "metadata": {},
   "outputs": [
    {
     "name": "stdout",
     "output_type": "stream",
     "text": [
      "Países com maior PIB per capita: Turks & Caicos Is \n"
     ]
    }
   ],
   "source": [
    "# Questão 5: País da América do Sul e Caribe com maior PIB per capita\n",
    "\n",
    "regioes = np.char.strip(dataset[:, 1])  # Remove espaços extras\n",
    "am_sul_caribe = dataset[regioes == \"LATIN AMER. & CARIB\"]\n",
    "\n",
    "\n",
    "\n",
    "indices_gdp = am_sul_caribe[:, 5].astype(float)  \n",
    "indice_max_gdp = np.argmax(indices_gdp)\n",
    "pais_max_gdp = am_sul_caribe[indice_max_gdp, 0]\n",
    "print(f\"Países com maior PIB per capita: {pais_max_gdp}\")\n",
    "\n"
   ]
  }
 ],
 "metadata": {
  "kernelspec": {
   "display_name": "Python 3",
   "language": "python",
   "name": "python3"
  },
  "language_info": {
   "codemirror_mode": {
    "name": "ipython",
    "version": 3
   },
   "file_extension": ".py",
   "mimetype": "text/x-python",
   "name": "python",
   "nbconvert_exporter": "python",
   "pygments_lexer": "ipython3",
   "version": "3.11.9"
  }
 },
 "nbformat": 4,
 "nbformat_minor": 2
}
