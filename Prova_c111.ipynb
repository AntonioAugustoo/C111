{
 "cells": [
  {
   "cell_type": "code",
   "execution_count": 17,
   "metadata": {},
   "outputs": [],
   "source": [
    "import numpy as np\n",
    "\n",
    "dataset = np.loadtxt('C:\\\\Users\\\\Defen\\\\Downloads\\\\social_media.csv', delimiter=';', dtype=str, encoding='utf-8')"
   ]
  },
  {
   "cell_type": "code",
   "execution_count": 12,
   "metadata": {},
   "outputs": [
    {
     "name": "stdout",
     "output_type": "stream",
     "text": [
      "Número de posts do Brasil: 641\n"
     ]
    }
   ],
   "source": [
    "# Questão 1: Contar quantos posts são do Brasil\n",
    "regions = dataset[:, 4]    # Coluna da Região\n",
    "posts_brasil = np.sum(regions == \"Brazil\")\n",
    "print(f\"Número de posts do Brasil: {posts_brasil}\")\n",
    "\n"
   ]
  },
  {
   "cell_type": "code",
   "execution_count": null,
   "metadata": {},
   "outputs": [
    {
     "name": "stdout",
     "output_type": "stream",
     "text": [
      "Porcentagem de posts com a #Education: 10.5 %\n"
     ]
    }
   ],
   "source": [
    "# Questão 2: Porcentagem de posts com a  #Education\n",
    "\n",
    "hashtags = dataset[:, 2]   # Coluna da Hashtag\n",
    "total_posts = dataset.shape[0]  #  linhas do dataset\n",
    "posts_education = np.sum(hashtags == \"Education\")\n",
    "porcentagem_education = (posts_education / total_posts) * 100           #Calculando porcentagem \n",
    "print(f'Porcentagem de posts com a #Education:', round(porcentagem_education,2),'%')\n"
   ]
  },
  {
   "cell_type": "code",
   "execution_count": null,
   "metadata": {},
   "outputs": [
    {
     "name": "stdout",
     "output_type": "stream",
     "text": [
      "Média de Views no Instagram: 2404079.88\n",
      "Média de Likes no Instagram: 257118.22\n"
     ]
    }
   ],
   "source": [
    "# Questão 3: Média de Views e Likes dos posts do Instagram\n",
    "platforms = dataset[:, 1]  # Coluna da Plataforma\n",
    "idx_views = 5       # Coluna de Views\n",
    "idx_likes = 6       \n",
    "\n",
    "# Filtrar apenas os posts do Instagram\n",
    "instagram_posts = dataset[platforms == \"Instagram\"]\n",
    "\n",
    "views_instagram = instagram_posts[:, idx_views].astype(float)\n",
    "likes_instagram = instagram_posts[:, idx_likes].astype(float)\n",
    "\n",
    "# Média \n",
    "media_views_instagram = sum(views_instagram) / len(views_instagram)\n",
    "media_likes_instagram = sum(likes_instagram) / len(likes_instagram)\n",
    "\n",
    "\n",
    "print(\"Média de Views no Instagram:\", round(media_views_instagram, 2))\n",
    "print(\"Média de Likes no Instagram:\", round(media_likes_instagram, 2))\n"
   ]
  },
  {
   "cell_type": "code",
   "execution_count": 11,
   "metadata": {},
   "outputs": [
    {
     "name": "stdout",
     "output_type": "stream",
     "text": [
      " Plataforma com mais posts: YouTube (1324 posts)\n"
     ]
    }
   ],
   "source": [
    "# Questão 4: Plataforma com maior quantidade de posts e número de posts\n",
    "platforms = dataset[:, 1]  # Coluna da Plataforma\n",
    "plataformas, contagens = np.unique(platforms, return_counts=True)\n",
    "\n",
    "plataforma_mais_posts = plataformas[np.argmax(contagens)] #pega maior numero\n",
    "quantidade_posts_plataforma = np.max(contagens)\n",
    "\n",
    "print(f\" Plataforma com mais posts: {plataforma_mais_posts} ({quantidade_posts_plataforma} posts)\")\n"
   ]
  },
  {
   "cell_type": "code",
   "execution_count": 23,
   "metadata": {},
   "outputs": [
    {
     "name": "stdout",
     "output_type": "stream",
     "text": [
      "Origem do post com mais likes: Germany\n"
     ]
    }
   ],
   "source": [
    "# Questão 5: Origem do post com maior número de likes\n",
    "\n",
    "\n",
    "dataset_valores = dataset[1:]  \n",
    "\n",
    "\n",
    "likes = dataset_valores[:, 6].astype(float)   # Converter para float\n",
    "\n",
    "\n",
    "indice_mais_likes = np.argmax(likes) # Encontrar o índice do post com mais likes\n",
    "\n",
    "\n",
    "post_mais_likes = dataset_valores[indice_mais_likes] # Obter o post com mais likes\n",
    "\n",
    "\n",
    "regiao_post_mais_likes = post_mais_likes[4]   # Obter a região do post\n",
    "\n",
    "print(f\"Origem do post com mais likes: {regiao_post_mais_likes}\")\n"
   ]
  }
 ],
 "metadata": {
  "kernelspec": {
   "display_name": "Python 3",
   "language": "python",
   "name": "python3"
  },
  "language_info": {
   "codemirror_mode": {
    "name": "ipython",
    "version": 3
   },
   "file_extension": ".py",
   "mimetype": "text/x-python",
   "name": "python",
   "nbconvert_exporter": "python",
   "pygments_lexer": "ipython3",
   "version": "3.11.9"
  }
 },
 "nbformat": 4,
 "nbformat_minor": 2
}
