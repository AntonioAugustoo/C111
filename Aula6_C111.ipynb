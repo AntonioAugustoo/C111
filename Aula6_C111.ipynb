{
 "cells": [
  {
   "cell_type": "markdown",
   "metadata": {},
   "source": [
    "# AULA 6 - Carregando dataset e salvando com o pandas"
   ]
  },
  {
   "cell_type": "code",
   "execution_count": 1,
   "metadata": {},
   "outputs": [],
   "source": [
    "import pandas as pd\n",
    "import numpy as np \n"
   ]
  },
  {
   "cell_type": "markdown",
   "metadata": {},
   "source": [
    "LER O ARQUIVO E MOSTRAR DATASET"
   ]
  },
  {
   "cell_type": "code",
   "execution_count": 21,
   "metadata": {},
   "outputs": [],
   "source": [
    "df =pd.read_csv('C:\\\\Users\\\\Defen\\\\Downloads\\\\paises2.csv', delimiter=';')"
   ]
  },
  {
   "cell_type": "code",
   "execution_count": null,
   "metadata": {},
   "outputs": [],
   "source": [
    "print(df.columns)\n",
    "print(df.head(3))\n",
    "print(df.tail(3))\n"
   ]
  },
  {
   "cell_type": "markdown",
   "metadata": {},
   "source": [
    "CAUCULAR A % DA POPULAÇÃO DE CADA PAÍS"
   ]
  },
  {
   "cell_type": "code",
   "execution_count": 19,
   "metadata": {},
   "outputs": [
    {
     "name": "stdout",
     "output_type": "stream",
     "text": [
      "0      0.476039\n",
      "1      0.054899\n",
      "2      0.504750\n",
      "3      0.000886\n",
      "4      0.001091\n",
      "         ...   \n",
      "222    0.037714\n",
      "223    0.004185\n",
      "224    0.328879\n",
      "225    0.176302\n",
      "226    0.187565\n",
      "Name: Population, Length: 227, dtype: float64\n"
     ]
    }
   ],
   "source": [
    "total_population = np.sum(df['Population'])\n",
    "\n",
    "seriesPercPop = (df['Population'] / total_population)* 100\n",
    "\n",
    "print(seriesPercPop)"
   ]
  },
  {
   "cell_type": "markdown",
   "metadata": {},
   "source": [
    "CRIANDO NOVA COLUNA E PEGANDO 6 PAISES MAIS POPULOSOS"
   ]
  },
  {
   "cell_type": "code",
   "execution_count": null,
   "metadata": {},
   "outputs": [],
   "source": [
    "df['% Population'] = np.round(seriesPercPop, 3)\n",
    "df.to_csv('C:\\\\Users\\\\Defen\\\\Downloads\\\\paises2.csv', sep=';')\n",
    "\n",
    "\n",
    "\n",
    "df.nlargest(6, 'Population').to_csv('C:\\\\Users\\\\Defen\\\\Downloads\\\\paises2.csv', sep=';')\n",
    "\n",
    "print(df.nlargest(6, '% Population'))\n",
    "\n",
    "\n"
   ]
  },
  {
   "cell_type": "markdown",
   "metadata": {},
   "source": [
    "AGRUPANDO DAODS POR REGIÂO"
   ]
  },
  {
   "cell_type": "code",
   "execution_count": null,
   "metadata": {},
   "outputs": [],
   "source": [
    "group_region = df.groupby('Region')\n",
    "print(group_region.count())['Coutry']\n",
    "print(group_region.sum())['Population']\n"
   ]
  },
  {
   "cell_type": "markdown",
   "metadata": {},
   "source": [
    "METODOS CUSTOMIZADOS"
   ]
  },
  {
   "cell_type": "code",
   "execution_count": 38,
   "metadata": {},
   "outputs": [
    {
     "name": "stdout",
     "output_type": "stream",
     "text": [
      "     Deathrate  Deathrate\n",
      "0        20.34     18.306\n",
      "1         5.22      4.698\n",
      "2         4.61      4.149\n",
      "3         3.27      2.943\n",
      "4         6.25      5.625\n",
      "..         ...        ...\n",
      "222       3.92      3.528\n",
      "223       0.00      0.000\n",
      "224       8.30      7.470\n",
      "225      19.93     17.937\n",
      "226      21.84     19.656\n",
      "\n",
      "[227 rows x 2 columns]\n"
     ]
    }
   ],
   "source": [
    "def tenpercent(x):\n",
    "    return x * 0.9\n",
    "\n",
    "Taxa_Mortalidade1 = df['Deathrate']\n",
    "Taxa_Mortalidade2 = df['Deathrate'].apply(tenpercent) #apply function to Series\n",
    "\n",
    "print(pd.concat([Taxa_Mortalidade1, Taxa_Mortalidade2], axis=1))"
   ]
  }
 ],
 "metadata": {
  "kernelspec": {
   "display_name": "Python 3",
   "language": "python",
   "name": "python3"
  },
  "language_info": {
   "codemirror_mode": {
    "name": "ipython",
    "version": 3
   },
   "file_extension": ".py",
   "mimetype": "text/x-python",
   "name": "python",
   "nbconvert_exporter": "python",
   "pygments_lexer": "ipython3",
   "version": "3.11.9"
  }
 },
 "nbformat": 4,
 "nbformat_minor": 2
}
