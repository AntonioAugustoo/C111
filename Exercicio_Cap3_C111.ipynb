{
 "cells": [
  {
   "cell_type": "markdown",
   "metadata": {},
   "source": [
    "Exercicio 1"
   ]
  },
  {
   "cell_type": "code",
   "execution_count": null,
   "metadata": {},
   "outputs": [
    {
     "name": "stdout",
     "output_type": "stream",
     "text": [
      "['Barcelona', 'Real', 'Milao']\n",
      "['Juve', 'Atletico']\n",
      "['Atletico', 'Barcelona', 'Juve', 'Milao', 'Real']\n",
      "Posição 0\n"
     ]
    }
   ],
   "source": [
    "colocados = ['Barcelona','Real','Milao','Juve','Atletico']\n",
    "\n",
    "print(colocados[:3]) #Letra A\n",
    "print(colocados[3:]) #Letra B\n",
    "print(sorted(colocados)) #Letra C\n",
    "\n",
    "if \"Barcelona\" in colocados:\n",
    "    print(\"Posição\", colocados.index(\"Barcelona\")) #Letra D\n",
    "\n",
    "\n",
    "\n"
   ]
  },
  {
   "cell_type": "markdown",
   "metadata": {},
   "source": [
    "Exercicio 2"
   ]
  },
  {
   "cell_type": "code",
   "execution_count": 33,
   "metadata": {},
   "outputs": [
    {
     "name": "stdout",
     "output_type": "stream",
     "text": [
      "Loja1: 6\n",
      "Loja1: 4\n",
      "Modelos disponíveis em ambas as lojas: {'Nokia', 'Samsumg S20'}\n"
     ]
    }
   ],
   "source": [
    "loja1 = {'Samsumg S20','Iphone 14','Nokia','Motorola G1','Xiaomi','Asus'}\n",
    "loja2 = {'Samsumg S20','Iphone 15','Nokia','Motorola'}\n",
    "\n",
    "\n",
    "print(\"Loja1:\", len(loja1))\n",
    "print(\"Loja1:\", len(loja2))\n",
    "\n",
    "comuns = loja1.intersection(loja2)\n",
    "print(\"Modelos disponíveis em ambas as lojas:\", comuns)\n",
    "\n"
   ]
  },
  {
   "cell_type": "markdown",
   "metadata": {},
   "source": [
    "Exercicio 3"
   ]
  },
  {
   "cell_type": "code",
   "execution_count": 25,
   "metadata": {},
   "outputs": [
    {
     "name": "stdout",
     "output_type": "stream",
     "text": [
      "Lucas: Média 34.0, Situação RP\n",
      "Kaio: Média 50.0, Situação Ap\n"
     ]
    }
   ],
   "source": [
    "alunos = {}\n",
    "quantidade = int(input(\"Quantos alunos deseja cadastrar? \"))\n",
    "for _ in range(quantidade):\n",
    "    nome = input(\"Nome do aluno: \")\n",
    "    media = float(input(\"Média do aluno: \"))\n",
    "    if media >= 50:\n",
    "        situacao = \"Ap\"\n",
    "    else:\n",
    "        situacao = \"RP\"\n",
    "\n",
    "\n",
    "    alunos[nome] = {\"Média\": media, \"Situação\": situacao}\n",
    "\n",
    "for nome, dados in alunos.items():\n",
    "    print(f\"{nome}: Média {dados['Média']}, Situação {dados['Situação']}\")\n",
    "    "
   ]
  },
  {
   "cell_type": "markdown",
   "metadata": {},
   "source": [
    "Exercicio 4"
   ]
  },
  {
   "cell_type": "code",
   "execution_count": 32,
   "metadata": {},
   "outputs": [
    {
     "name": "stdout",
     "output_type": "stream",
     "text": [
      "Pessoa mais pesada: Joao  89.0\n",
      "Pessoa mais leve: Pedro 67.0\n"
     ]
    }
   ],
   "source": [
    "pessoas = []\n",
    "\n",
    "for _ in range(3):\n",
    " nome = input(\"Nome: \")\n",
    " peso = float(input(\"Peso: \"))\n",
    " pessoas.append((nome, peso))\n",
    "\n",
    "mais_pesada = pessoas[0]\n",
    "mais_leve = pessoas[0]\n",
    "\n",
    "for pessoa in pessoas:\n",
    "    if pessoa[1] > mais_pesada[1]:\n",
    "        mais_pesada = pessoa\n",
    "    if pessoa[1] < mais_leve[1]:\n",
    "        mais_leve = pessoa\n",
    "\n",
    "print(\"Pessoa mais pesada:\", mais_pesada[0],mais_pesada[1])\n",
    "print(\"Pessoa mais leve:\",mais_leve[0], mais_leve[1])\n"
   ]
  },
  {
   "cell_type": "markdown",
   "metadata": {},
   "source": [
    "Exercicio 5"
   ]
  },
  {
   "cell_type": "code",
   "execution_count": 27,
   "metadata": {},
   "outputs": [
    {
     "name": "stdout",
     "output_type": "stream",
     "text": [
      "Média de idade do grupo:  26.0\n",
      "Mulheres com menos de 20 anos: 2\n"
     ]
    }
   ],
   "source": [
    "pessoas = []\n",
    "quantidade = int(input(\"Quantas pessoas deseja cadastrar? \"))\n",
    "for _ in range(quantidade):\n",
    "    nome = input(\"Nome: \")\n",
    "    idade = int(input(\"Idade: \"))\n",
    "    sexo = input(\"Sexo (M/F): \").strip().upper()\n",
    "    pessoas.append((nome, idade, sexo))\n",
    "\n",
    "# a) Média de idade do grupo\n",
    "media_idade = sum(p[1] for p in pessoas) / len(pessoas) #somando a idade e dividindo pelo numero de pessoas \n",
    "print(\"Média de idade do grupo: \", media_idade)\n",
    "\n",
    "# b) Quantas mulheres têm menos de 20 anos\n",
    "menos_20 = sum(1 for p in pessoas if p[2] == \"F\" and p[1] < 20) #comparadando usando a posiçao 2 da lista e add na variavel a soma \n",
    "print(\"Mulheres com menos de 20 anos:\", menos_20)"
   ]
  }
 ],
 "metadata": {
  "kernelspec": {
   "display_name": "Python 3",
   "language": "python",
   "name": "python3"
  },
  "language_info": {
   "codemirror_mode": {
    "name": "ipython",
    "version": 3
   },
   "file_extension": ".py",
   "mimetype": "text/x-python",
   "name": "python",
   "nbconvert_exporter": "python",
   "pygments_lexer": "ipython3",
   "version": "3.11.9"
  }
 },
 "nbformat": 4,
 "nbformat_minor": 2
}
