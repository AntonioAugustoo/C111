{
 "cells": [
  {
   "cell_type": "code",
   "execution_count": 1,
   "metadata": {},
   "outputs": [],
   "source": [
    "import pandas as pd\n",
    "import numpy as np "
   ]
  },
  {
   "cell_type": "code",
   "execution_count": 3,
   "metadata": {},
   "outputs": [
    {
     "name": "stdout",
     "output_type": "stream",
     "text": [
      "Quantidade de países na Oceania: 21\n",
      "3            American Samoa \n",
      "11                Australia \n",
      "47             Cook Islands \n",
      "67                     Fiji \n",
      "71         French Polynesia \n",
      "83                     Guam \n",
      "108                Kiribati \n",
      "130        Marshall Islands \n",
      "136    Micronesia, Fed. St. \n",
      "144                   Nauru \n",
      "148           New Caledonia \n",
      "149             New Zealand \n",
      "153      N. Mariana Islands \n",
      "157                   Palau \n",
      "159        Papua New Guinea \n",
      "176                   Samoa \n",
      "187         Solomon Islands \n",
      "203                   Tonga \n",
      "209                  Tuvalu \n",
      "217                 Vanuatu \n",
      "221       Wallis and Futuna \n",
      "Name: Country, dtype: object\n"
     ]
    }
   ],
   "source": [
    "# Exercicio 1\n",
    "import pandas as pd\n",
    "df =pd.read_csv('C:\\\\Users\\\\Defen\\\\Downloads\\\\paises.csv', delimiter=';')\n",
    "\n",
    "df_oceania = df[df[\"Region\"].str.contains(\"OCEANIA\")]\n",
    "\n",
    "print(f\"Quantidade de países na Oceania: {len(df_oceania)}\")\n",
    "print(df_oceania[\"Country\"])"
   ]
  },
  {
   "cell_type": "code",
   "execution_count": 4,
   "metadata": {},
   "outputs": [
    {
     "name": "stdout",
     "output_type": "stream",
     "text": [
      "País: China , Região: ASIA (EX. NEAR EAST)         \n"
     ]
    }
   ],
   "source": [
    "# Exercicio 2\n",
    "\n",
    "pais_mais_populoso = df.loc[df[\"Population\"].idxmax(), [\"Country\", \"Region\"]]\n",
    "\n",
    "print(f\"País: {pais_mais_populoso['Country']}, Região: {pais_mais_populoso['Region']}\")\n"
   ]
  },
  {
   "cell_type": "code",
   "execution_count": 5,
   "metadata": {},
   "outputs": [
    {
     "name": "stdout",
     "output_type": "stream",
     "text": [
      "Region\n",
      "ASIA (EX. NEAR EAST)                   79.553571\n",
      "BALTICS                                99.733333\n",
      "C.W. OF IND. STATES                    98.725000\n",
      "EASTERN EUROPE                         72.816667\n",
      "LATIN AMER. & CARIB                    88.640000\n",
      "NEAR EAST                              69.581250\n",
      "NORTHERN AFRICA                        56.033333\n",
      "NORTHERN AMERICA                       78.200000\n",
      "OCEANIA                                71.914286\n",
      "SUB-SAHARAN AFRICA                     61.284314\n",
      "WESTERN EUROPE                         80.821429\n",
      "Name: Literacy (%), dtype: float64\n"
     ]
    }
   ],
   "source": [
    "# Exercicio 3\n",
    "media_literacy_por_regiao = df.groupby(\"Region\")[\"Literacy (%)\"].mean()\n",
    "\n",
    "print(media_literacy_por_regiao)\n"
   ]
  },
  {
   "cell_type": "code",
   "execution_count": 6,
   "metadata": {},
   "outputs": [
    {
     "name": "stdout",
     "output_type": "stream",
     "text": [
      "Itens salvos com sucesso!\n"
     ]
    }
   ],
   "source": [
    "# Exercicio 4\n",
    "df_coast = df[df['Coastline (coast/area ratio)'] == 0]\n",
    "\n",
    "\n",
    "df_coast[['Country']].to_csv('paises3.csv')\n",
    "\n",
    "print('Itens salvos com sucesso!')"
   ]
  },
  {
   "cell_type": "code",
   "execution_count": 7,
   "metadata": {},
   "outputs": [
    {
     "name": "stdout",
     "output_type": "stream",
     "text": [
      "             Country                               Region  Population  \\\n",
      "0       Afghanistan         ASIA (EX. NEAR EAST)             31056997   \n",
      "1           Albania   EASTERN EUROPE                          3581655   \n",
      "2           Algeria   NORTHERN AFRICA                        32930091   \n",
      "3    American Samoa   OCEANIA                                   57794   \n",
      "4           Andorra   WESTERN EUROPE                            71201   \n",
      "..               ...                                  ...         ...   \n",
      "222       West Bank   NEAR EAST                               2460492   \n",
      "223  Western Sahara   NORTHERN AFRICA                          273008   \n",
      "224           Yemen   NEAR EAST                              21456188   \n",
      "225          Zambia   SUB-SAHARAN AFRICA                     11502010   \n",
      "226        Zimbabwe   SUB-SAHARAN AFRICA                     12236805   \n",
      "\n",
      "     Area (sq. mi.)  Pop. Density (per sq. mi.)  Coastline (coast/area ratio)  \\\n",
      "0            647500                        48.0                          0.00   \n",
      "1             28748                       124.6                          1.26   \n",
      "2           2381740                        13.8                          0.04   \n",
      "3               199                       290.4                         58.29   \n",
      "4               468                       152.1                          0.00   \n",
      "..              ...                         ...                           ...   \n",
      "222            5860                       419.9                          0.00   \n",
      "223          266000                         1.0                          0.42   \n",
      "224          527970                        40.6                          0.36   \n",
      "225          752614                        15.3                          0.00   \n",
      "226          390580                        31.3                          0.00   \n",
      "\n",
      "     Net migration  Infant mortality (per 1000 births)  GDP ($ per capita)  \\\n",
      "0            23.06                              163.07                 700   \n",
      "1            -4.93                               21.52                4500   \n",
      "2            -0.39                               31.00                6000   \n",
      "3           -20.71                                9.27                8000   \n",
      "4             6.60                                4.05               19000   \n",
      "..             ...                                 ...                 ...   \n",
      "222           2.98                               19.62                 800   \n",
      "223           0.00                                0.00                   0   \n",
      "224           0.00                               61.50                 800   \n",
      "225           0.00                               88.29                 800   \n",
      "226           0.00                               67.69                1900   \n",
      "\n",
      "     Literacy (%)  ...  Arable (%)  Crops (%)  Other (%)  Climate  Birthrate  \\\n",
      "0            36.0  ...       12.13       0.22      87.65      1.0      46.60   \n",
      "1            86.5  ...       21.09       4.42      74.49      3.0      15.11   \n",
      "2            70.0  ...        3.22       0.25      96.53      1.0      17.14   \n",
      "3            97.0  ...       10.00      15.00      75.00      2.0      22.46   \n",
      "4           100.0  ...        2.22       0.00      97.78      3.0       8.71   \n",
      "..            ...  ...         ...        ...        ...      ...        ...   \n",
      "222           0.0  ...       16.90      18.97      64.13      3.0      31.67   \n",
      "223           0.0  ...        0.02       0.00      99.98      1.0       0.00   \n",
      "224          50.2  ...        2.78       0.24      96.98      1.0      42.89   \n",
      "225          80.6  ...        7.08       0.03      92.90      2.0      41.00   \n",
      "226          90.7  ...        8.32       0.34      91.34      2.0      28.01   \n",
      "\n",
      "     Deathrate  Agriculture  Industry  Service  Humanitarian Help  \n",
      "0        20.34        0.380     0.240    0.380             Urgent  \n",
      "1         5.22        0.232     0.188    0.579           Balanced  \n",
      "2         4.61        0.101     0.600    0.298           Balanced  \n",
      "3         3.27        0.000     0.000    0.000           Balanced  \n",
      "4         6.25        0.000     0.000    0.000           Balanced  \n",
      "..         ...          ...       ...      ...                ...  \n",
      "222       3.92        0.090     0.280    0.630           Balanced  \n",
      "223       0.00        0.000     0.000    0.400           Balanced  \n",
      "224       8.30        0.135     0.472    0.393           Balanced  \n",
      "225      19.93        0.220     0.290    0.489             Urgent  \n",
      "226      21.84        0.179     0.243    0.579             Urgent  \n",
      "\n",
      "[227 rows x 21 columns]\n"
     ]
    }
   ],
   "source": [
    "# Exercicio 5\n",
    "\n",
    "#Funcao deathrate\n",
    "def class_deathrate(deathrate):\n",
    "  return 'Balanced' if deathrate < 9 else 'Urgent'\n",
    "\n",
    "df['Humanitarian Help'] = df['Deathrate'].apply(class_deathrate)\n",
    "\n",
    "print(df)"
   ]
  }
 ],
 "metadata": {
  "kernelspec": {
   "display_name": "Python 3",
   "language": "python",
   "name": "python3"
  },
  "language_info": {
   "codemirror_mode": {
    "name": "ipython",
    "version": 3
   },
   "file_extension": ".py",
   "mimetype": "text/x-python",
   "name": "python",
   "nbconvert_exporter": "python",
   "pygments_lexer": "ipython3",
   "version": "3.11.9"
  }
 },
 "nbformat": 4,
 "nbformat_minor": 2
}
