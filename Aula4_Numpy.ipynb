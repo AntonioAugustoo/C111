{
 "cells": [
  {
   "cell_type": "markdown",
   "metadata": {},
   "source": [
    "Exercicio 1 "
   ]
  },
  {
   "cell_type": "code",
   "execution_count": 2,
   "metadata": {},
   "outputs": [
    {
     "name": "stdout",
     "output_type": "stream",
     "text": [
      "Matriz resultante:\n",
      " [[ 6 10]\n",
      " [ 1  2]\n",
      " [ 1  6]\n",
      " [ 5  9]]\n"
     ]
    }
   ],
   "source": [
    "import numpy as np\n",
    "\n",
    "array1 = np.ones(8, dtype=int)\n",
    "array2 = np.random.randint(0, 10, 8)\n",
    "array3 = array1 + array2\n",
    "\n",
    "if np.sum(array3) >= 40:\n",
    "    array3 = array3.reshape(4, 2)  \n",
    "else:\n",
    "    array3 = array3.reshape(2, 4)  \n",
    "\n",
    "print(\"Matriz resultante:\\n\", array3)\n"
   ]
  },
  {
   "cell_type": "markdown",
   "metadata": {},
   "source": [
    "Exercicio 2 "
   ]
  },
  {
   "cell_type": "code",
   "execution_count": 5,
   "metadata": {},
   "outputs": [
    {
     "name": "stdout",
     "output_type": "stream",
     "text": [
      " Array ordenado: [  0   2   4   6   8  10  12  14  16  18  20  22  24  26  28  30  32  34\n",
      "  36  38  40  42  44  46  48  50  50  52  54  56  58  60  62  64  66  68\n",
      "  70  72  74  76  78  80  82  84  86  88  90  92  94  96  98 100]\n"
     ]
    }
   ],
   "source": [
    "pares1 = np.arange(0, 52, 2)  \n",
    "pares2 = np.arange(100, 48, -2)  \n",
    "\n",
    "concatenado = np.concatenate((pares1, pares2))\n",
    "ordenado = np.sort(concatenado)\n",
    "\n",
    "print(\" Array ordenado:\", ordenado)"
   ]
  },
  {
   "cell_type": "markdown",
   "metadata": {},
   "source": [
    "Exercicio 3"
   ]
  },
  {
   "cell_type": "code",
   "execution_count": null,
   "metadata": {},
   "outputs": [],
   "source": [
    "campo = np.zeros((2, 2), dtype=int)\n",
    "pos_x, pos_y = np.random.randint(0, 2), np.random.randint(0, 2)\n",
    "campo[pos_x, pos_y] = 1\n",
    "\n",
    "tentativas = 3\n",
    "for i in range(tentativas):\n",
    "    print(\"Mini Campo Minado\")\n",
    "    x = int(input(\"Escolha a linha (0 ou 1): \"))\n",
    "    y = int(input(\"Escolha a coluna (0 ou 1): \"))\n",
    "\n",
    "    if campo[x, y] == 1:\n",
    "        print(\"Game Over! :( Try Again!\")\n",
    "        break\n",
    "    elif i == tentativas - 1:\n",
    "        print(\"Congratulations! You beat the game! :)\")"
   ]
  },
  {
   "cell_type": "markdown",
   "metadata": {},
   "source": [
    "Exercicio 4"
   ]
  },
  {
   "cell_type": "code",
   "execution_count": null,
   "metadata": {},
   "outputs": [
    {
     "name": "stdout",
     "output_type": "stream",
     "text": [
      "Matriz:\n",
      "[[2 3 2 5]\n",
      " [7 1 4 6]\n",
      " [0 2 9 4]]\n",
      "A matriz pode se tornar um vetor unidimensional com 12 elementos (PAR).\n"
     ]
    }
   ],
   "source": [
    "matriz = np.random.randint(0, 10, (3, 4))\n",
    "print(\"Matriz:\")\n",
    "print(matriz)\n",
    "\n",
    "# Extraindo número de linhas e colunas\n",
    "linhas, colunas = matriz.shape\n",
    "\n",
    "# Multiplicando número de linhas e colunas\n",
    "num_elementos = linhas * colunas\n",
    "\n",
    "# Verificando se pode se tornar um vetor com número par ou ímpar de elementos\n",
    "if num_elementos % 2 == 0:\n",
    "    print(f\"A matriz pode se tornar um vetor unidimensional com {num_elementos} elementos (PAR).\") #f para mostrar o valor de num_elementoss \n",
    "else:\n",
    "    print(f\"A matriz pode se tornar um vetor unidimensional com {num_elementos} elementos (ÍMPAR).\")\n"
   ]
  },
  {
   "cell_type": "markdown",
   "metadata": {},
   "source": [
    "Exercicio 5"
   ]
  },
  {
   "cell_type": "code",
   "execution_count": 25,
   "metadata": {},
   "outputs": [
    {
     "name": "stdout",
     "output_type": "stream",
     "text": [
      "Matriz gerada:\n",
      "[[45 48  1  4]\n",
      " [ 4 40 10 20]\n",
      " [22 37 24  7]\n",
      " [25 25 13  2]]\n",
      "\n",
      "Média de cada linha: [24.5  18.5  22.5  16.25]\n",
      "Média de cada coluna: [24.5  18.5  22.5  16.25]\n",
      "Maior média das linhas: 24.5\n",
      "Maior média das colunas: 24.5\n",
      "\n",
      "Frequência de cada número na matriz:\n",
      "Número 1 = 1 vezes\n",
      "Número 2 = 1 vezes\n",
      "Número 4 = 2 vezes\n",
      "Número 7 = 1 vezes\n",
      "Número 10 = 1 vezes\n",
      "Número 13 = 1 vezes\n",
      "Número 20 = 1 vezes\n",
      "Número 22 = 1 vezes\n",
      "Número 24 = 1 vezes\n",
      "Número 25 = 2 vezes\n",
      "Número 37 = 1 vezes\n",
      "Número 40 = 1 vezes\n",
      "Número 45 = 1 vezes\n",
      "Número 48 = 1 vezes\n",
      "\n",
      "Números que aparecem exatamente 2 vezes:\n",
      "Número 4 \n",
      "Número 25 \n"
     ]
    }
   ],
   "source": [
    "np.random.seed(0)\n",
    "\n",
    "# Criando a matriz 4x4 \n",
    "matriz = np.random.randint(1, 50, (4, 4))\n",
    "print(\"Matriz gerada:\")\n",
    "print(matriz)\n",
    "\n",
    "# a) Calcular a média de cada linha e coluna\n",
    "media_colunas = np.mean(matriz,axis=1)\n",
    "media_linhas = np.mean(matriz,axis=1)\n",
    "print(\"\\nMédia de cada linha:\", media_linhas)\n",
    "print(\"Média de cada coluna:\", media_colunas)\n",
    "\n",
    "# b) Maior valor entre as médias das linhas e colunas\n",
    "maior_media_linhas = np.max(media_linhas)\n",
    "maior_media_colunas = np.max(media_colunas)\n",
    "print(\"Maior média das linhas:\", maior_media_linhas)\n",
    "print(\"Maior média das colunas:\", maior_media_colunas)\n",
    "\n",
    "# c) Contagem das ocorrências dos números na matriz\n",
    "\n",
    "valores, contagens = np.unique(matriz, return_counts=True)\n",
    "contagem_numeros = dict(zip(valores, contagens))\n",
    "\n",
    "print(\"\\nFrequência de cada número na matriz:\")\n",
    "for num, qtd in contagem_numeros.items():\n",
    "    print(f\"Número {num} = {qtd} vezes\")\n",
    "# Filtrar os números que aparecem exatamente 2 vezes\n",
    "print(\"\\nNúmeros que aparecem exatamente 2 vezes:\")\n",
    "for num, qtd in contagem_numeros.items():\n",
    "    if qtd == 2:\n",
    "        print(f\"Número {num} \")"
   ]
  }
 ],
 "metadata": {
  "kernelspec": {
   "display_name": "Python 3",
   "language": "python",
   "name": "python3"
  },
  "language_info": {
   "codemirror_mode": {
    "name": "ipython",
    "version": 3
   },
   "file_extension": ".py",
   "mimetype": "text/x-python",
   "name": "python",
   "nbconvert_exporter": "python",
   "pygments_lexer": "ipython3",
   "version": "3.11.9"
  }
 },
 "nbformat": 4,
 "nbformat_minor": 2
}
