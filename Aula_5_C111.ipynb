{
 "cells": [
  {
   "cell_type": "markdown",
   "metadata": {},
   "source": [
    "# AULA 5      "
   ]
  },
  {
   "cell_type": "code",
   "execution_count": 3,
   "metadata": {},
   "outputs": [],
   "source": [
    "import pandas as pd\n",
    "import numpy as np\n"
   ]
  },
  {
   "cell_type": "markdown",
   "metadata": {},
   "source": [
    " 🐼OPERÇOES COM SERIES UTILIZANDO PANDAS"
   ]
  },
  {
   "cell_type": "code",
   "execution_count": null,
   "metadata": {},
   "outputs": [
    {
     "name": "stdout",
     "output_type": "stream",
     "text": [
      "a    10\n",
      "b    20\n",
      "c    30\n",
      "dtype: int64\n",
      "20\n",
      "a    20.0\n",
      "b     NaN\n",
      "c    80.0\n",
      "d     NaN\n",
      "dtype: float64\n",
      "a    20.0\n",
      "b    20.0\n",
      "c    80.0\n",
      "d    80.0\n",
      "dtype: float64\n"
     ]
    }
   ],
   "source": [
    "labels = ['a', 'b', 'c']\n",
    "dados = [10, 20, 30]\n",
    "\n",
    "#Criando uma Series com duas listas\n",
    "s1 = pd.Series(index=labels, data=dados)\n",
    "#Criando uma Series com um dicionário\n",
    "s2 = pd.Series({'a': 10, 'c': 50, 'd': 80})\n",
    "print(s1)\n",
    "print(s1['b'])\n",
    "\n",
    "#Operações com Series\n",
    "soma = s1 + s2\n",
    "print(soma)\n",
    "\n",
    "#Outra forma de operação de Somar Series\n",
    "print(s1.add(s2, fill_value=0))\n",
    "\n",
    "#Subtração de Series\n",
    "sub = s1 - s2\n",
    "print(sub)\n",
    "#Outra forma de operação de Subtração de Series\n",
    "print(s1.sub(s2, fill_value=0))\n",
    "\n",
    "#Multiplicação de Series\n",
    "mult = s1 * s2\n",
    "print(mult)\n",
    "#Outra forma de operação de Multiplicação de Series\n",
    "print(s1.mul(s2, fill_value=0))\n",
    "\n",
    "#Divisão de Series\n",
    "div = s1 / s2\n",
    "print(div)\n",
    "#Outra forma de operação de Divisão de Series\n",
    "print(s1.div(s2, fill_value=0))\n",
    "\n",
    "\n",
    "\n"
   ]
  },
  {
   "cell_type": "markdown",
   "metadata": {},
   "source": [
    "🚀CONDICIONAIS NO PANDAS"
   ]
  },
  {
   "cell_type": "code",
   "execution_count": null,
   "metadata": {},
   "outputs": [],
   "source": [
    "#Acessar somente oque precisaos\n",
    "print(s1['a', 'c'])\n"
   ]
  },
  {
   "cell_type": "markdown",
   "metadata": {},
   "source": [
    "📊 CRIANDO UM DATA FRAME"
   ]
  },
  {
   "cell_type": "code",
   "execution_count": null,
   "metadata": {},
   "outputs": [
    {
     "name": "stdout",
     "output_type": "stream",
     "text": [
      "    W   X   Y   Z\n",
      "A  10  37  16   1\n",
      "B  29  26  30  49\n",
      "C  30   9  10   1\n",
      "D  43  41  37  17\n",
      "E  37  48  12  25\n",
      "    W   Z\n",
      "A  10   1\n",
      "B  29  49\n",
      "C  30   1\n",
      "D  43  17\n",
      "E  37  25\n",
      "26\n"
     ]
    }
   ],
   "source": [
    "np.random.seed(10)\n",
    "\n",
    "df = pd.DataFrame(index=['A', 'B', 'C', 'D', 'E'],\n",
    "                  columns=['W', 'X', 'Y', 'Z'],\n",
    "                  data=np.random.randint(1,50, [5, 4]))\n",
    "\n",
    "print(df)\n",
    "\n",
    "#SLicing com multiplas colunas\n",
    "print(df[['W', 'Z']])\n",
    "\n",
    "#coluna seguido de linha\n",
    "\n",
    "print(df['X']['B'])\n",
    "\n"
   ]
  },
  {
   "cell_type": "markdown",
   "metadata": {},
   "source": [
    "🔪FAZENDO UM SLICING COM LOC() OU ILOC()"
   ]
  },
  {
   "cell_type": "code",
   "execution_count": null,
   "metadata": {},
   "outputs": [
    {
     "name": "stdout",
     "output_type": "stream",
     "text": [
      "    W   X   Y   Z\n",
      "A  10  37  16   1\n",
      "B  29  26  30  49\n",
      "    W   X   Y   Z\n",
      "A  10  37  16   1\n",
      "B  29  26  30  49\n"
     ]
    }
   ],
   "source": [
    "#usando loc para acessar dados\n",
    "print(df.loc[['A','B'],['W','X','Y','Z']])\n",
    "#usando iloc para acessar dados\n",
    "print(df.iloc[0:2, :])"
   ]
  }
 ],
 "metadata": {
  "kernelspec": {
   "display_name": "Python 3",
   "language": "python",
   "name": "python3"
  },
  "language_info": {
   "codemirror_mode": {
    "name": "ipython",
    "version": 3
   },
   "file_extension": ".py",
   "mimetype": "text/x-python",
   "name": "python",
   "nbconvert_exporter": "python",
   "pygments_lexer": "ipython3",
   "version": "3.11.9"
  }
 },
 "nbformat": 4,
 "nbformat_minor": 2
}
